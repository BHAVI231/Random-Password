{
 "cells": [
  {
   "cell_type": "code",
   "execution_count": 12,
   "id": "aa180367",
   "metadata": {},
   "outputs": [
    {
     "name": "stdout",
     "output_type": "stream",
     "text": [
      "the password is  yz4apf#ui0\n"
     ]
    }
   ],
   "source": [
    "import random\n",
    "lower=\"abcdefghijklmnopqrstuvwxyz\"\n",
    "upper=\"ABCDEFGHIJKLMNOPQRSTUVWXYZ\"\n",
    "number=\"0123456789\"\n",
    "symbol=\"{}[]#()*;_-.\"\n",
    "\n",
    "all=lower+upper+symbol+number\n",
    "length=10\n",
    "password=\" \".join(random.sample(all,length))\n",
    "print(\"the password is \",password)"
   ]
  }
 ],
 "metadata": {
  "kernelspec": {
   "display_name": "Python 3 (ipykernel)",
   "language": "python",
   "name": "python3"
  },
  "language_info": {
   "codemirror_mode": {
    "name": "ipython",
    "version": 3
   },
   "file_extension": ".py",
   "mimetype": "text/x-python",
   "name": "python",
   "nbconvert_exporter": "python",
   "pygments_lexer": "ipython3",
   "version": "3.9.7"
  }
 },
 "nbformat": 4,
 "nbformat_minor": 5
}
